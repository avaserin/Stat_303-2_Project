{
 "cells": [
  {
   "cell_type": "raw",
   "id": "33dd6c4c",
   "metadata": {},
   "source": [
    "---\n",
    "title: \"Project Report\"\n",
    "subtitle: Python Princesses\n",
    "author: Avanti Parkhe, Ava Serin, Emily Zhang, Ada Zhong\n",
    "date: 02/27/2023\n",
    "number-sections: true\n",
    "abstract: _This report aims to develop the most accurate predictions of fuel efficiency in miles per gallon of cars based on their features. We developed a multiple linear regression that optimizes the R-squared and RMSE values through forward stepwise selection. We constructed multiple linear regression models with all numerical first-order predictors, improving upon the model with variable transformations as well as variable selection and regularization techniques such as best subset selection, forward stepwise selection, lasso, and ridge regression. Ultimately, our final model was the one created with forward stepwise selection. This model has two first-order predictors (weight, model_year) and four interaction terms (horsepower_acceleration, weight_model_year, acceleration_model_year, horsepower_weight) along with an R-squared value of 0.891 and an RMSE of 2.824. Based on this model, stakeholders should pay close attention to horsepower, weight, acceleration, and model_year in regards to fuel efficiency and environmental efforts. That being said, stakeholders should be aware that our model may grow obsolete with time as new models of cars are developed in the 21st century_.\n",
    "format: \n",
    "  html:\n",
    "    toc: true\n",
    "    toc-title: Contents\n",
    "    code-fold: true\n",
    "    self-contained: true\n",
    "    font-size: 100%\n",
    "    toc-depth: 4\n",
    "    mainfont: serif\n",
    "jupyter: python3\n",
    "---"
   ]
  },
  {
   "cell_type": "markdown",
   "id": "0116f49b",
   "metadata": {},
   "source": [
    "## Background / Motivation\n",
    "\n",
    "What motivated you to work on this problem?\n",
    "\n",
    "Mention any background about the problem, if it is required to understand your analysis later on."
   ]
  },
  {
   "cell_type": "markdown",
   "id": "ed000eea",
   "metadata": {},
   "source": [
    "There are 65 million multi-vehicle households in the United States, each of which drives about 28,000 miles per year. If each one reduced fuel consumption by 10%, we would need 10 billion fewer gallons of gasoline per year. Assuming 3.5 dollars per gallon, we’d save $35 billion in fuel costs. We would also prevent 100 million metric tons of tailpipe CO2 emissions, equivalent to taking almost 20 million cars off the road [3].  Besides CO2, car fuel also creates harmful byproducts like nitrogen dioxide, carbon monoxide, hydrocarbons, benzene, and formaldehyde [2]. These greenhouse gas (GHG) emissions from cars account for about 27% of total greenhouse gas emissions, making it the largest contributor of U.S. greenhouse gas emissions [1]. EPA programs exist to reduce carbon pollution from transportation by cutting GHG emissions and increasing fuel efficiency. Based on these recommendations from the EPA, we aim to create a model to predict fuel efficiency based on various car metrics, allowing for lower fuel costs and less greenhouse gas emissions. \n",
    "\n",
    "In terms of motivation, we are drivers who are looking for ways to reduce our environmental impact and learn more about fuel efficiency."
   ]
  },
  {
   "cell_type": "markdown",
   "id": "84ff1421",
   "metadata": {},
   "source": [
    "## Problem statement \n",
    "\n",
    "Describe your problem statement. Articulate your objectives using absolutely no jargon. Interpret the problem as inference and/or prediction."
   ]
  },
  {
   "cell_type": "markdown",
   "id": "2e212305",
   "metadata": {},
   "source": [
    "We are attempting to predict the fuel efficiency, in miles per gallon, of cars based on their features. This is a prediction problem because the response variable, `mpg`, is continuous and quantitative. Additionally, we sought to predict the value of `mpg`, rather than find the relationship between `mpg` and the predictor variables."
   ]
  },
  {
   "cell_type": "markdown",
   "id": "38c7b95f",
   "metadata": {},
   "source": [
    "## Data sources\n",
    "What data did you use? Provide details about your data. Include links to data if you are using open-access data."
   ]
  },
  {
   "cell_type": "markdown",
   "id": "a1fe248b",
   "metadata": {},
   "source": [
    "We selected a data source from the UCI Machine Learning Repository that contains various metrics such as number of cylinders, horsepower, displacement, weight, acceleration, model year, origin, and car name to predict the miles per gallon (mpg) from each car. The dataset concerns city-cycle fuel consumption in miles per gallon, to be predicted in terms of 3 multivalued discrete and 5 continuous attributes. There are 398 values in the dataset.\n",
    "\n",
    "Link: https://archive.ics.uci.edu/ml/datasets/auto+mpg"
   ]
  },
  {
   "cell_type": "markdown",
   "id": "8c255035",
   "metadata": {},
   "source": [
    "## Stakeholders\n",
    "Who cares? If you are successful, what difference will it make to them?"
   ]
  },
  {
   "cell_type": "markdown",
   "id": "4ea83603",
   "metadata": {},
   "source": [
    "Our primary stakeholders are car companies, users of cars, and environmental policy activists. The aim of our project is to determine what factors impact the fuel efficiency of cars most. Based on the results of our data analysis, we can inform car manufacturers about important factors they should focus on when producing more environmentally friendly cars. These results will benefit car users because customers will know which factors matter more when they are looking to purchase cars. Lastly, this project will benefit environmental policy activists because they will be able to target specific car features when deciding on policies and laws to decrease carbon emissions. We recognize that cars and their environmental impact affect a large majority of the population, but we wanted to narrow our stakeholders down to these three key groups."
   ]
  },
  {
   "cell_type": "markdown",
   "id": "fe7ea9bb",
   "metadata": {},
   "source": [
    "## Data quality check / cleaning / preparation \n",
    "\n",
    "In a tabular form, show the distribution of values of each variable used in the analysis - for both categorical and continuous variables. Distribution of a categorical variable must include the number of missing values, the number of unique values, the frequency of all its levels. If a categorical variable has too many levels, you may just include the counts of the top 3-5 levels. \n",
    "\n",
    "If the tables in this section take too much space, you may put them in the appendix, and just mention any useful insights you obtained from the data quality check that helped you develop the model or helped you realize the necessary data cleaning / preparation.\n",
    "\n",
    "Were there any potentially incorrect values of variables that required cleaning? If yes, how did you clean them? \n",
    "\n",
    "Did you do any data wrangling or data preparation before the data was ready to use for model development? Did you create any new predictors from exisiting predictors? For example, if you have number of transactions and spend in a credit card dataset, you may create spend per transaction for predicting if a customer pays their credit card bill. Mention the steps at a broad level, you may put minor details in the appendix. Only mention the steps that ended up being useful towards developing your final model(s)."
   ]
  },
  {
   "attachments": {},
   "cell_type": "markdown",
   "id": "be7b0a58",
   "metadata": {},
   "source": [
    "Continuous Variable Distribution: \n",
    "![Continuous Variable Distribution](continuous.png \"Continuous\")"
   ]
  },
  {
   "attachments": {},
   "cell_type": "markdown",
   "id": "21946d4e",
   "metadata": {},
   "source": [
    "Categorical Variable Distribution: \n",
    "![Categorical Variable Distribution](categorical.png \"Categorical\")"
   ]
  },
  {
   "cell_type": "markdown",
   "id": "33eddcde",
   "metadata": {},
   "source": [
    "Here you can see that we have a tabular distribution of the continuous variables and the categorical variables. Based on these tables, we were able to see that the data had no glaring issues, but there were some things we still wanted to fix before moving on to creating the model. Therefore, we chose to start with a little more in-depth data quality checking and cleaning. \n",
    "\n",
    "Within data checking and cleaning, there were multiple steps we took. Despite none of the columns having NaN or missing values, we found that there were values in the `horsepower` column that were “?” so we replaced them with NaNs. This allowed us to convert `horsepower` to a float type as opposed to being an object. We renamed the `model year` column to `model_year` as the space in the column title created problems in the code. We also binned the `cylinder` column since there were so few unique values within the `cylinder` column (as seen in the table). Finally, for clarity purposes, we mapped the values of `origin` to the actual country names; originally, the values of `origin` were 1, 2, and 3, which corresponded to the U.S., Europe, and Asia respectively. We did not create any new predictors from the existing predictors. \n",
    "\n",
    "We chose to do a best subset selection for all first-order predictors, forward stepwise selection for all first order and second-order interaction terms, and a ridge and lasso model. The data preparation for this is in the respective sections where this code is run. The data preparation of these analyses primarily consisted of creating copy datasets for the train and test for each model to ensure that the correct variables existed when the model was running and dropping NaN values as there were few of them and they caused issues when running these regressions. More information about this can be found in the development of the model section. "
   ]
  },
  {
   "cell_type": "markdown",
   "id": "fbb11c9b",
   "metadata": {},
   "source": [
    "## Exploratory data analysis"
   ]
  },
  {
   "cell_type": "markdown",
   "id": "e4bd74a9",
   "metadata": {},
   "source": [
    "Put the relevant EDA here (visualizations, tables, etc.) that helped you figure out useful predictors for developing the model(s). Only put the EDA that ended up being useful towards developing your final model(s). \n",
    "\n",
    "List the insights (as bullet points) you got from EDA that ended up being useful towards developing your final model. \n",
    "\n",
    "Again, if there are too many plots / tables, you may put them into appendix, and just mention the insights you got from them."
   ]
  },
  {
   "cell_type": "markdown",
   "id": "481b5d10",
   "metadata": {},
   "source": [
    "-  `weight`, `displacement`, and `cylinders` had the highest inital correlation with `mpg`\n",
    "    - `car_name` was a categorical variable, so it was not included in this part of the analysis\n",
    "- When we ran the `value_counts()` method on the `car_name` column, there were 305 unique strings and the name with the greatest frequency, “ford pinto,” only occurred six times. \n",
    "    - Indicated that `car_name` would likely not be a reliable predictor in our regression.\n",
    "- Performed a VIF in order to detect multicollinearity. \n",
    "    - Noticed that the VIF of `displacement` was slightly high at 18.886514, so we also decided not to use this variable as a predictor. \n",
    "    - `cylinders` is also slightly high at 10.291058 but it is still in the acceptable range. \n",
    "        - We ended up not using `cylinders` as a predictor because it did not significantly improve the model fit. \n",
    "\n",
    "Below are some useful visualizations we created."
   ]
  },
  {
   "cell_type": "markdown",
   "id": "92bb22cf",
   "metadata": {},
   "source": [
    "Pairplot to see correlation between predictors and response variable\n",
    "![Pairplot to see correlation between predictors and response variable](pairplot.png \"Pairplot\")"
   ]
  },
  {
   "cell_type": "markdown",
   "id": "fd02bc65",
   "metadata": {},
   "source": [
    "Heatmap to see correlation between predictors and response variable\n",
    "![Heatmap to see correlation between predictors and response variable](heatmap.png \"Heatmap\")"
   ]
  },
  {
   "cell_type": "markdown",
   "id": "056f0fbb",
   "metadata": {},
   "source": [
    "Value count of each predictor column\n",
    "![Value count of each predictor column](vc.png \"Value counts\")"
   ]
  },
  {
   "cell_type": "markdown",
   "id": "e6d54fd5",
   "metadata": {},
   "source": [
    "VIF of each predictor to detect multicollinearity\n",
    "![VIF of each predictor to detect multicollinearity](vif.png \"VIF\")"
   ]
  },
  {
   "cell_type": "markdown",
   "id": "d39c782c",
   "metadata": {},
   "source": [
    "## Approach\n",
    "\n",
    "What kind of a model (linear / logistic / other) did you use? What performance metric(s) did you optimize and why?\n",
    "\n",
    "Is there anything unorthodox / new in your approach? \n",
    "\n",
    "What problems did you anticipate? What problems did you encounter? Did the very first model you tried work? \n",
    "\n",
    "Did your problem already have solution(s) (posted on Kaggle or elsewhere). If yes, then how did you build upon those solutions, what did you do differently? Is your model better as compared to those solutions in terms of prediction / inference?\n",
    "\n",
    "**Important: Mention any code repositories (with citations) or other sources that you used, and specifically what changes you made to them for your project.**"
   ]
  },
  {
   "cell_type": "markdown",
   "id": "b2d54703",
   "metadata": {},
   "source": [
    "We created a multiple linear regression model using data from the UCI Machine Learning Repository. The only changes we made to the dataset are detailed in the data quality check section of this report. The performance metrics we optimized for were R-squared and RMSE; as we wanted to develop the most accurate prediction possible, we wanted our predictors to explain as much of the variation in the response as possible and minimize the differences between our estimates and the actual values for `mpg`. There is nothing really unorthodox/new in our approach. Our approach uses methods taught in class and techniques also taught in class.\n",
    "\n",
    "We did not initially anticipate any problems, but we did encounter a few. As mentioned previously, our initial attempts at EDA prompted us to do some data cleaning, such as renaming variables and converting data types. We also originally produced incorrect ridge and lasso regressions when we accidentally identified the incorrect dataset and had to go back and debug our code as a result. A similar error caused us to originally believe our ridge regression was the best model, when in actuality our forward selection model was the most optimal. As such, the first model we tried did not work – we had to experiment with transformations and subset selection to optimize our performance metrics.\n",
    "\n",
    "We did not utilize existing Kaggle solutions or other posted solutions."
   ]
  },
  {
   "cell_type": "markdown",
   "id": "acab331a",
   "metadata": {},
   "source": [
    "## Developing the model"
   ]
  },
  {
   "cell_type": "markdown",
   "id": "ae5ec4c9",
   "metadata": {},
   "source": [
    "Explain the steps taken to develop and improve the base model - informative visualizations / addressing modeling assumption violations / variable transformation / interactions / outlier treatment / influential points treatment / addressing over-fitting / addressing multicollinearity / variable selection - stepwise regression, lasso, ridge regression). \n",
    "\n",
    "Did you succeed in achieving your goal, or did you fail? Why?\n",
    "\n",
    "**Put the final model equation**.\n",
    "\n",
    "**Important: This section should be rigorous and thorough. Present detailed information about decision you made, why you made them, and any evidence/experimentation to back them up.**"
   ]
  },
  {
   "cell_type": "markdown",
   "id": "dfe32df8",
   "metadata": {},
   "source": [
    "First, we split our data into 80% training and 20% test, so that we could make predictions on a test dataset and hopefully account for overfitting. Next, we started by calculating the VIF of the predictors to detect multicollinearity. We found that `displacement` had a VIF of 18.87, pointing to its high association with other predictors. Additionally, due to our identification of specific clusters in the distribution of `cylinders`, we binned `cylinders` into a variable called `cyl_binned`. As such, our initial model contained all numerical first-order predictors (with `cyl_binned` instead of `cylinders`) except for `displacement`, obtaining an R-squared of 0.837 and an RMSE of 3.260.\n",
    "\n",
    "From this model, we created visualizations to inform our future transformations–namely, residual plots of the residuals against the predictors. The plots against `weight` and `horsepower` violated the model assumption of linearity, leading us to create quadratic terms for those predictors. With just `weight` squared, we obtained an R-squared of 0.864 and an RMSE of 3.046, a marked improvement from the previous model. When we squared both `weight` and `horsepower`, our R-squared was 0.860 but our RMSE improved to 2.952.\n",
    "\n",
    "We created another visualization of the residuals plotted against the fitted values, which informed our decision to take the log of `mpg`. Our model with `mpg` logged and the aforementioned quadratic transformations produced an R-squared of 0.888 and an RMSE of 3.004. From our residual plots of this model, we ostensibly satisfied the assumptions of linearity and constant variance of the error terms. However, we wanted to improve our model further through interactions and predictor selection.\n",
    "\n",
    "Before doing so, we calculated the number of outliers and high leverage points based on our last model. Since we found only four and seven, respectively, we decided not to omit these points as they were low in quantity. First, we did best subset selection with first-order predictors. Based on both AIC and BIC, we chose a best subset model with the two predictors `weight` and `model_year`, giving us an R-squared of 0.870 and an RMSE of 3.183 (not an improvement over our previous models). Following this, we decided to try out using interaction terms, as many car features are intuitively associated with one another. Consequently, we did a forward stepwise selection with interaction terms, obtaining a model with 6 predictors (`weight, model_year, horsepower_acceleration, weight_model_year, acceleration_model_year, horsepower_weight`) based on BIC that had an R-squared of 0.891 and an RMSE of 2.824. As such, this forward selection model with two first-order predictors and four interaction terms was our best one yet.\n",
    "\n",
    "In an attempt to improve our model further, we conducted lasso and ridge regressions. For lasso, the lambda, RMSE, and R-squared were 0.009, 3.091, and 0.858, respectively. For ridge, the corresponding values were 2.612, 3.244, and 0.863. A lambda of 2.62 for ridge seemed strange, but we brought up this lambda value with Prof. Besler who confirmed that our code was correct. Neither of these models were an improvement over forward stepwise selection, so we returned to that model. \n",
    "\n",
    "Our final model consisted of our insights from forward selection and our insights on the optimal first-order predictors to transform. The final equation we inputted was: `'np.log(mpg) ~ horsepower*acceleration + acceleration*model_year + horsepower*weight + I(horsepower**2) + weight + weight*model_year + I(weight**2) + acceleration'`. This gave us an R-squared of 0.896 and an RMSE of 2.667. Overall, we felt that we achieved our goal of creating a predictive MLR model as many of our predictors were statistically significant and we had optimized our performance metrics. "
   ]
  },
  {
   "cell_type": "markdown",
   "id": "1b46343d",
   "metadata": {},
   "source": [
    "## Limitations of the model with regard to inference / prediction"
   ]
  },
  {
   "cell_type": "markdown",
   "id": "c85ead90",
   "metadata": {},
   "source": [
    "If it is inference, will the inference hold for a certain period of time, for a certain subset of population, and / or for certain conditions.\n",
    "\n",
    "If it is prediction, then will it be possible / convenient / expensive for the stakeholders to collect the data relating to the predictors in the model. Using your model, how soon will the stakeholder be able to predict the outcome before the outcome occurs. For example, if the model predicts the number of bikes people will rent in Evanston on a certain day, then how many days before that day will your model be able to make the prediction. This will depend on how soon the data that your model uses becomes available. If you are predicting election results, how many days / weeks / months / years before the election can you predict the results. \n",
    "\n",
    "When will your model become too obsolete to be useful?\n",
    "\n",
    "Using our model, stakeholders will be able to predict `mpg` immediately as they would simply need to know the vehicle specifications and input them. This information is also readily available by car companies/dealerships, so there are no additional expenses involved. However, the model may become obsolete in 5-10 years. Automobile features improve and change rapidly, and this data is from the late 20th century. With the advent of hybrid vehicles, electric cars, and other fuel efficiency technologies, the cars used in this dataset will no longer be representative of what features impact mpg most."
   ]
  },
  {
   "cell_type": "markdown",
   "id": "62a185cb",
   "metadata": {},
   "source": [
    "## Conclusions and Recommendations to stakeholder(s)\n",
    "\n",
    "What conclusions do you draw based on your model? If it is inference you may draw conclusions based on the coefficients, statistical significance of predictors / interactions, etc. If it is prediction, you may draw conclusions based on prediction accuracy, or other performance metrics.\n",
    "\n",
    "How do you use those conclusions to come up with meaningful recommendations for stakeholders? The recommendations must be action-items for stakeholders that they can directly implement without any further analysis. Be as precise as possible. The stakeholder(s) are depending on you to come up with practically implementable recommendations, instead of having to think for themselves.\n",
    "\n",
    "If your recommendations are not practically implementable by stakeholders, how will they help them? Is there some additional data / analysis / domain expertise you need to do to make the recommendations implementable? \n",
    "\n",
    "Do the stakeholder(s) need to be aware about some limitations of your model? Is your model only good for one-time use, or is it possible to update your model at a certain frequency (based on recent data) to keep using it in the future? If it can be used in the future, then for how far into the future?"
   ]
  },
  {
   "cell_type": "markdown",
   "id": "1fb65ed2",
   "metadata": {},
   "source": [
    "In conclusion, the features stakeholders must pay attention to most if they are concerned with fuel efficiency are `horsepower`, `weight`, `acceleration`, and `model_year`. As identified in our final model equation, there are critical associations between some of these features. That being said, stakeholders should be aware of the fact that our model may grow obsolete with time, as specified in the previous section. A new model based on cars in the 21st century would have to be developed to continue predicting fuel efficiency accurately, and it is unclear whether this new model would contain the same predictors/interactions.\n",
    "\n",
    "For car manufacturers interested in selling the most fuel-efficient cars, we recommend prioritizing retiring old models, as fuel efficiency increases with model year (i.e. newer cars have better fuel efficiency). Manufacturers should also consider making smaller, more compact cars, as lower weight is associated with a higher fuel efficiency. Nonetheless, they should be aware that there is a compromise with horsepower: a more powerful car comes at the cost of a lower fuel efficiency and acceleration.\n",
    "\n",
    "Moreover, consumers interested in fuel efficiency should prioritize purchasing newer, more compact cars. Environmentalists interested in influencing legislation should adjust policies targeting car weight and horsepower. That being said, consumers and environmentalists thinking about preserving the environment through transportation should take a bigger picture view that does not solely focus on automobiles. After all, realizing sustainability from within car culture may be counterintuitive. Instead, a radical reimagining of the status quo through the prioritization of public mass transportation, walkability, and micromobility is what will transform the environment as well as human health and happiness."
   ]
  },
  {
   "cell_type": "markdown",
   "id": "9c44497c",
   "metadata": {},
   "source": [
    "## GitHub and individual contribution {-}"
   ]
  },
  {
   "cell_type": "markdown",
   "id": "c98b3f66",
   "metadata": {},
   "source": [
    "Put the **Github link** for the project repository.\n",
    "\n",
    "**Github Repository Link:** https://github.com/avaserin/Stat_303-2_Project "
   ]
  },
  {
   "cell_type": "markdown",
   "id": "0ca45613",
   "metadata": {},
   "source": [
    "Add details of each team member's contribution in the table below."
   ]
  },
  {
   "cell_type": "markdown",
   "id": "5505da5c",
   "metadata": {},
   "source": [
    "<html>\n",
    "<style>\n",
    "table, td, th {\n",
    "  border: 1px solid black;\n",
    "}\n",
    "\n",
    "table {\n",
    "  border-collapse: collapse;\n",
    "  width: 100%;\n",
    "}\n",
    "\n",
    "th {\n",
    "  text-align: left;\n",
    "}\n",
    "    \n",
    "\n",
    "</style>\n",
    "<body>\n",
    "\n",
    "<h2>Individual contribution</h2>\n",
    "\n",
    "<table style=\"width:100%\">\n",
    "     <colgroup>\n",
    "       <col span=\"1\" style=\"width: 15%;\">\n",
    "       <col span=\"1\" style=\"width: 20%;\">\n",
    "       <col span=\"1\" style=\"width: 50%;\">\n",
    "       <col span=\"1\" style=\"width: 15%;\"> \n",
    "    </colgroup>\n",
    "  <tr>\n",
    "    <th>Team member</th>\n",
    "    <th>Contributed aspects</th>\n",
    "    <th>Details</th>\n",
    "    <th>Number of GitHub commits</th>\n",
    "  </tr>\n",
    "  <tr>\n",
    "    <td>Avanti Parkhe</td>\n",
    "    <td>Best Subset Selection, Forward Stepwise Selection, Data Prep</td>\n",
    "    <td>Prepared the dataset for analysis and did two types of predictor selection.</td>\n",
    "    <td>7</td>\n",
    "  </tr>\n",
    "  <tr>\n",
    "    <td>Ava Serin</td>\n",
    "    <td>Ridge and Lasso Regression, Data Prep</td>\n",
    "    <td>Prepared the dataset for analysis and did ridge/lasso regression.</td>\n",
    "    <td>11</td>\n",
    "  </tr>\n",
    "    <tr>\n",
    "    <td>Emily Zhang</td>\n",
    "    <td>Data Quality Check, EDA, Presentation</td>\n",
    "    <td>Conducted EDA with analysis/visualizations and worked on slides.</td>\n",
    "    <td>13</td>    \n",
    "  </tr>\n",
    "    <tr>\n",
    "    <td>Ada Zhong</td>\n",
    "    <td>Model Development, Variable Transformation, Presentation</td>\n",
    "    <td>Developed model before predictor selection and worked on slides.</td>\n",
    "    <td>19</td>    \n",
    "  </tr>\n",
    "</table>"
   ]
  },
  {
   "cell_type": "markdown",
   "id": "192bbd23",
   "metadata": {},
   "source": [
    "List the **challenges** you faced when collaborating with the team on GitHub. Are you comfortable using GitHub? \n",
    "Do you feel GitHub made collaboration easier? If not, then why? *(Individual team members can put their opinion separately, if different from the rest of the team)*"
   ]
  },
  {
   "cell_type": "markdown",
   "id": "7ad14f9b",
   "metadata": {},
   "source": [
    "As a team, we did encounter some difficulties when collaborating on GitHub. Though having all the files and editing history on one platform was very helpful, we did encounter some issues when it came to pulling files that had conflicting revisions. Over time, we got more comfortable with GitHub and how to troubleshoot these issues. Overall, we felt that GitHub had a steeper learning curve but ultimately made collaboration easier than it was the previous quarter when editing .ipynb files. "
   ]
  },
  {
   "cell_type": "markdown",
   "id": "00b1cafe",
   "metadata": {},
   "source": [
    "## References {-}"
   ]
  },
  {
   "cell_type": "markdown",
   "id": "ebdb1aad",
   "metadata": {},
   "source": [
    "List and number all bibliographical references. When referenced in the text, enclose the citation number in square brackets, for example [1].\n",
    "\n",
    "[1] U.S. Environmental Protection Agency. \"Carbon Pollution from Transportation.\" EPA. https://www.epa.gov/transportation-air-pollution-and-climate-change/carbon-pollution-transportation.\n",
    "\n",
    "[2] Washington State Department of Ecology. \"Reducing Car Pollution.\" Ecology. \n",
    "https://ecology.wa.gov/Issues-and-local-projects/Education-training/What-you-can-do/Reducing-car-pollution#:~:text=Vehicle%20pollutants%20harm%20our%20health,common%20human%2Dcaused%20greenhouse%20gas.\n",
    "\n",
    "[3] U.S. Environmental Protection Agency. \"What If We Drove Our Most Efficient Car?\" EPA. https://www.epa.gov/greenvehicles/what-if-we-drove-our-most-efficient-car.\n"
   ]
  },
  {
   "cell_type": "markdown",
   "id": "5831751c",
   "metadata": {},
   "source": [
    "## Appendix {-}"
   ]
  },
  {
   "cell_type": "markdown",
   "id": "d13d374d",
   "metadata": {},
   "source": [
    "You may put additional stuff here as Appendix. You may refer to the Appendix in the main report to support your arguments. However, the appendix section is unlikely to be checked while grading, unless the grader deems it necessary."
   ]
  }
 ],
 "metadata": {
  "kernelspec": {
   "display_name": "Python 3 (ipykernel)",
   "language": "python",
   "name": "python3"
  },
  "language_info": {
   "codemirror_mode": {
    "name": "ipython",
    "version": 3
   },
   "file_extension": ".py",
   "mimetype": "text/x-python",
   "name": "python",
   "nbconvert_exporter": "python",
   "pygments_lexer": "ipython3",
   "version": "3.9.12"
  }
 },
 "nbformat": 4,
 "nbformat_minor": 5
}
